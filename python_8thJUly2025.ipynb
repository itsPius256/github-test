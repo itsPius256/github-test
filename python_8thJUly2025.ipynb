{
  "nbformat": 4,
  "nbformat_minor": 0,
  "metadata": {
    "colab": {
      "provenance": [],
      "include_colab_link": true
    },
    "kernelspec": {
      "name": "python3",
      "display_name": "Python 3"
    },
    "language_info": {
      "name": "python"
    }
  },
  "cells": [
    {
      "cell_type": "markdown",
      "metadata": {
        "id": "view-in-github",
        "colab_type": "text"
      },
      "source": [
        "<a href=\"https://colab.research.google.com/github/itsPius256/github-test/blob/main/python_8thJUly2025.ipynb\" target=\"_parent\"><img src=\"https://colab.research.google.com/assets/colab-badge.svg\" alt=\"Open In Colab\"/></a>"
      ]
    },
    {
      "cell_type": "code",
      "execution_count": null,
      "metadata": {
        "id": "p46c7_3JLNNT"
      },
      "outputs": [],
      "source": []
    },
    {
      "cell_type": "code",
      "source": [],
      "metadata": {
        "id": "ydXfwVdo9adl"
      },
      "execution_count": null,
      "outputs": []
    },
    {
      "cell_type": "markdown",
      "source": [],
      "metadata": {
        "id": "9vqZsbCE9hw0"
      }
    },
    {
      "cell_type": "markdown",
      "source": [
        "**Data Analytics**\n",
        "\n"
      ],
      "metadata": {
        "id": "sGDq0N_JLveY"
      }
    },
    {
      "cell_type": "markdown",
      "source": [
        "**Python Data Types**\n",
        "\n",
        "\n",
        "\n",
        "*   String\n",
        "*   Integer\n",
        "*   Float\n",
        "\n"
      ],
      "metadata": {
        "id": "i2dRp0LmMTO-"
      }
    },
    {
      "cell_type": "code",
      "source": [
        "type('Artificail Intelligence')"
      ],
      "metadata": {
        "colab": {
          "base_uri": "https://localhost:8080/"
        },
        "id": "xn6PRzkpMBa7",
        "outputId": "2d54d1b4-e81a-4e4b-9a98-8cdd7a0c225e"
      },
      "execution_count": null,
      "outputs": [
        {
          "output_type": "execute_result",
          "data": {
            "text/plain": [
              "str"
            ]
          },
          "metadata": {},
          "execution_count": 1
        }
      ]
    },
    {
      "cell_type": "code",
      "source": [
        "type(\"Artificail Intelligence\")"
      ],
      "metadata": {
        "colab": {
          "base_uri": "https://localhost:8080/"
        },
        "id": "6AmQ-iFiM_d0",
        "outputId": "9d6594d6-215e-4e09-9561-ed3819a47f1e"
      },
      "execution_count": null,
      "outputs": [
        {
          "output_type": "execute_result",
          "data": {
            "text/plain": [
              "str"
            ]
          },
          "metadata": {},
          "execution_count": 2
        }
      ]
    },
    {
      "cell_type": "code",
      "source": [
        "type(2025)"
      ],
      "metadata": {
        "colab": {
          "base_uri": "https://localhost:8080/"
        },
        "id": "UzQCux30NHYT",
        "outputId": "146087b3-032d-4827-98a4-a68792bd4a2f"
      },
      "execution_count": null,
      "outputs": [
        {
          "output_type": "execute_result",
          "data": {
            "text/plain": [
              "int"
            ]
          },
          "metadata": {},
          "execution_count": 3
        }
      ]
    },
    {
      "cell_type": "code",
      "source": [
        "type(-1.5)"
      ],
      "metadata": {
        "colab": {
          "base_uri": "https://localhost:8080/"
        },
        "id": "jb_ZuDMkNM2X",
        "outputId": "a005f65e-7f9c-4910-c955-281f54c4f990"
      },
      "execution_count": null,
      "outputs": [
        {
          "output_type": "execute_result",
          "data": {
            "text/plain": [
              "float"
            ]
          },
          "metadata": {},
          "execution_count": 4
        }
      ]
    },
    {
      "cell_type": "code",
      "source": [
        "type('-1.5')"
      ],
      "metadata": {
        "colab": {
          "base_uri": "https://localhost:8080/"
        },
        "id": "-aIUccVXNVrv",
        "outputId": "b1a0a620-1a43-4e02-9de0-7803cb7b6f15"
      },
      "execution_count": null,
      "outputs": [
        {
          "output_type": "execute_result",
          "data": {
            "text/plain": [
              "str"
            ]
          },
          "metadata": {},
          "execution_count": 5
        }
      ]
    },
    {
      "cell_type": "markdown",
      "source": [
        "**Boolean Data Types**\n",
        "\n",
        "\n",
        "\n",
        "*   True\n",
        "*   False\n",
        "\n"
      ],
      "metadata": {
        "id": "ax6WgAaINsUI"
      }
    },
    {
      "cell_type": "code",
      "source": [
        "type(True)"
      ],
      "metadata": {
        "colab": {
          "base_uri": "https://localhost:8080/"
        },
        "id": "qhOt-zXXNlOX",
        "outputId": "9df32da9-e253-4243-f142-b6887ec14b3f"
      },
      "execution_count": null,
      "outputs": [
        {
          "output_type": "execute_result",
          "data": {
            "text/plain": [
              "bool"
            ]
          },
          "metadata": {},
          "execution_count": 6
        }
      ]
    },
    {
      "cell_type": "code",
      "source": [
        "type(False)"
      ],
      "metadata": {
        "colab": {
          "base_uri": "https://localhost:8080/"
        },
        "id": "GZdAO5TnN6n8",
        "outputId": "eb50e6bf-5a35-41ee-9a2a-6d0b9be41273"
      },
      "execution_count": null,
      "outputs": [
        {
          "output_type": "execute_result",
          "data": {
            "text/plain": [
              "bool"
            ]
          },
          "metadata": {},
          "execution_count": 8
        }
      ]
    },
    {
      "cell_type": "code",
      "source": [
        "type(False)"
      ],
      "metadata": {
        "id": "44IxWWHSONEW"
      },
      "execution_count": null,
      "outputs": []
    },
    {
      "cell_type": "code",
      "source": [],
      "metadata": {
        "id": "BtfJwJUWORWr"
      },
      "execution_count": null,
      "outputs": []
    },
    {
      "cell_type": "markdown",
      "source": [
        "*Expressions, Variables, Conditions*\n",
        "\n",
        "<ul>\n",
        "    <li>subtraction: <b>-</b></li>\n",
        "    <li>addition: <b>+</b></li>\n",
        "    <li>division: <b>/</b></li>\n",
        "    <li>floor division <b>//</b></li>\n",
        "    <li>multiplication: <b>*</b></li>\n",
        "    <li>modulus: <b>%</b></li>\n",
        "    <li>exponent: <b></b></li>\n",
        "</ul>"
      ],
      "metadata": {
        "id": "fFzLPATMOYNO"
      }
    },
    {
      "cell_type": "code",
      "source": [
        "a= 10\n",
        "b = 5\n",
        "\n",
        "c = a//b\n",
        "d = a/b\n",
        "\n",
        "print(c)\n",
        "print(d)"
      ],
      "metadata": {
        "colab": {
          "base_uri": "https://localhost:8080/"
        },
        "id": "7fqTp93MO0oz",
        "outputId": "e6faf941-6763-466f-8ef1-35b270a6005f"
      },
      "execution_count": null,
      "outputs": [
        {
          "output_type": "stream",
          "name": "stdout",
          "text": [
            "2\n",
            "2.0\n"
          ]
        }
      ]
    },
    {
      "cell_type": "markdown",
      "source": [],
      "metadata": {
        "id": "M-FKMXMrOzbp"
      }
    },
    {
      "cell_type": "code",
      "source": [
        "type (c)\n"
      ],
      "metadata": {
        "colab": {
          "base_uri": "https://localhost:8080/"
        },
        "id": "V6UcxsFlPpie",
        "outputId": "c5b8717d-460a-42f8-d830-b674d6a4f7ab"
      },
      "execution_count": null,
      "outputs": [
        {
          "output_type": "execute_result",
          "data": {
            "text/plain": [
              "int"
            ]
          },
          "metadata": {},
          "execution_count": 11
        }
      ]
    },
    {
      "cell_type": "code",
      "source": [
        "type (d)"
      ],
      "metadata": {
        "colab": {
          "base_uri": "https://localhost:8080/"
        },
        "id": "wTZrW8iZP1lz",
        "outputId": "0495c56d-0b00-494e-e341-84886f7d6b1b"
      },
      "execution_count": null,
      "outputs": [
        {
          "output_type": "execute_result",
          "data": {
            "text/plain": [
              "float"
            ]
          },
          "metadata": {},
          "execution_count": 12
        }
      ]
    },
    {
      "cell_type": "code",
      "source": [
        "print (10//3)"
      ],
      "metadata": {
        "colab": {
          "base_uri": "https://localhost:8080/"
        },
        "id": "gQ8SELAFP6ke",
        "outputId": "17d65a2b-9d5a-48f5-88bd-e9df96f86699"
      },
      "execution_count": null,
      "outputs": [
        {
          "output_type": "stream",
          "name": "stdout",
          "text": [
            "3\n"
          ]
        }
      ]
    },
    {
      "cell_type": "code",
      "source": [
        "print (10/3)"
      ],
      "metadata": {
        "colab": {
          "base_uri": "https://localhost:8080/"
        },
        "id": "pTAvCEYdQEVQ",
        "outputId": "aee341ec-7254-442c-a1ff-5762d8e63afa"
      },
      "execution_count": null,
      "outputs": [
        {
          "output_type": "stream",
          "name": "stdout",
          "text": [
            "3.3333333333333335\n"
          ]
        }
      ]
    },
    {
      "cell_type": "code",
      "source": [
        "f1 = 10%2\n",
        "f2 = 10%3\n",
        "F3 = 10%4\n",
        "F4 = 10%5\n",
        "F5 = 10%6\n",
        "F6 = 11%2\n",
        "\n",
        "print(f1)\n",
        "print(f2)\n",
        "print(F3)\n",
        "print(F4)\n",
        "print(F5)\n",
        "print(F6)\n",
        "#\n"
      ],
      "metadata": {
        "colab": {
          "base_uri": "https://localhost:8080/"
        },
        "id": "zyWbWJw4QOpe",
        "outputId": "4ffcb21f-5d33-40fd-8779-ff95e305d1ee"
      },
      "execution_count": null,
      "outputs": [
        {
          "output_type": "stream",
          "name": "stdout",
          "text": [
            "0\n",
            "1\n",
            "2\n",
            "0\n",
            "4\n",
            "1\n"
          ]
        }
      ]
    },
    {
      "cell_type": "code",
      "source": [
        "name a = AI"
      ],
      "metadata": {
        "colab": {
          "base_uri": "https://localhost:8080/",
          "height": 110
        },
        "id": "CzKS8g4GRXn6",
        "outputId": "ebced518-6df6-438c-9f60-f7dbbd1a20fe"
      },
      "execution_count": null,
      "outputs": [
        {
          "output_type": "error",
          "ename": "SyntaxError",
          "evalue": "invalid syntax (ipython-input-18-1529028761.py, line 1)",
          "traceback": [
            "\u001b[0;36m  File \u001b[0;32m\"/tmp/ipython-input-18-1529028761.py\"\u001b[0;36m, line \u001b[0;32m1\u001b[0m\n\u001b[0;31m    name a = AI\u001b[0m\n\u001b[0m         ^\u001b[0m\n\u001b[0;31mSyntaxError\u001b[0m\u001b[0;31m:\u001b[0m invalid syntax\n"
          ]
        }
      ]
    },
    {
      "cell_type": "code",
      "source": [
        "name_a =  \"AI\"\n",
        "print(name_a)"
      ],
      "metadata": {
        "colab": {
          "base_uri": "https://localhost:8080/"
        },
        "id": "gUltDOMARr_u",
        "outputId": "4c18c67f-0266-4e4a-f1c5-dd89b42cc46c"
      },
      "execution_count": null,
      "outputs": [
        {
          "output_type": "stream",
          "name": "stdout",
          "text": [
            "AI\n"
          ]
        }
      ]
    },
    {
      "cell_type": "code",
      "source": [
        "name_a  =  \"ML\"\n"
      ],
      "metadata": {
        "id": "aPeTSKzUSB_r"
      },
      "execution_count": null,
      "outputs": []
    },
    {
      "cell_type": "markdown",
      "source": [
        "*Expressions, Variables, Conditions*\n",
        "\n",
        "<ul>\n",
        "    <li>subtraction: <b>-</b></li>\n",
        "    <li>addition: <b>+</b></li>\n",
        "    <li>division: <b>/</b></li>\n",
        "    <li>floor division <b>//</b></li>\n",
        "    <li>multiplication: <b>*</b></li>\n",
        "    <li>modulus: <b>%</b></li>\n",
        "    <li>exponent: <b></b></li>\n",
        "</ul>"
      ],
      "metadata": {
        "id": "czst6Q1qS6aW"
      }
    },
    {
      "cell_type": "code",
      "source": [
        "%whos"
      ],
      "metadata": {
        "colab": {
          "base_uri": "https://localhost:8080/"
        },
        "id": "hU6LI2I4SkWW",
        "outputId": "1c0f929a-1b8c-41b6-e386-46d3a4863bce"
      },
      "execution_count": null,
      "outputs": [
        {
          "output_type": "stream",
          "name": "stdout",
          "text": [
            "Variable   Type     Data/Info\n",
            "-----------------------------\n",
            "F3         int      2\n",
            "F4         int      0\n",
            "F5         int      4\n",
            "F6         int      1\n",
            "a          int      10\n",
            "b          int      5\n",
            "c          int      2\n",
            "d          float    2.0\n",
            "f1         int      0\n",
            "f2         int      1\n"
          ]
        }
      ]
    },
    {
      "cell_type": "code",
      "source": [],
      "metadata": {
        "id": "7h-LIdknSraO"
      },
      "execution_count": null,
      "outputs": []
    },
    {
      "cell_type": "markdown",
      "source": [
        "*Conditions*\n",
        "\n",
        "<ul>\n",
        "    <li>equal: <b>==</b></li>\n",
        "    <li>not equal: <b>!=</b></li>\n",
        "    <li>greater than: <b>></b></li>\n",
        "    <li>less than: <b>&lt;</b></li>\n",
        "    <li>greater than or equal to: <b>>=</b></li>\n",
        "    <li>less than or equal to: <b>&lt;=</b></li>\n",
        "</ul>"
      ],
      "metadata": {
        "id": "MmPJ8KIWTCAH"
      }
    },
    {
      "cell_type": "markdown",
      "source": [
        "*Conditions*\n",
        "\n",
        "<ul>\n",
        "    <li>equal: <b>==</b></li>\n",
        "    <li>not equal: <b>!=</b></li>\n",
        "    <li>greater than: <b>></b></li>\n",
        "    <li>less than: <b>&lt;</b></li>\n",
        "    <li>greater than or equal to: <b>>=</b></li>\n",
        "    <li>less than or equal to: <b>&lt;=</b></li>\n",
        "</ul>"
      ],
      "metadata": {
        "id": "KyOKEjz1TG9w"
      }
    },
    {
      "cell_type": "code",
      "source": [
        "score = 92\n",
        "score == 92 (asking is for ==)"
      ],
      "metadata": {
        "colab": {
          "base_uri": "https://localhost:8080/",
          "height": 110
        },
        "id": "MdfarVKsTlk7",
        "outputId": "bf7c7167-1d4f-4735-8871-055de1e82ba7"
      },
      "execution_count": null,
      "outputs": [
        {
          "output_type": "error",
          "ename": "SyntaxError",
          "evalue": "invalid syntax (ipython-input-27-22510475.py, line 2)",
          "traceback": [
            "\u001b[0;36m  File \u001b[0;32m\"/tmp/ipython-input-27-22510475.py\"\u001b[0;36m, line \u001b[0;32m2\u001b[0m\n\u001b[0;31m    score == 92 (asking is for ==)\u001b[0m\n\u001b[0m                           ^\u001b[0m\n\u001b[0;31mSyntaxError\u001b[0m\u001b[0;31m:\u001b[0m invalid syntax\n"
          ]
        }
      ]
    },
    {
      "cell_type": "code",
      "source": [],
      "metadata": {
        "id": "hvtydORDT-T5"
      },
      "execution_count": null,
      "outputs": []
    },
    {
      "cell_type": "code",
      "source": [
        "if elif, else"
      ],
      "metadata": {
        "colab": {
          "base_uri": "https://localhost:8080/",
          "height": 110
        },
        "id": "kkK46CFaT-Ea",
        "outputId": "31bc30a4-716d-47b2-9640-699dde3d45a2"
      },
      "execution_count": null,
      "outputs": [
        {
          "output_type": "error",
          "ename": "SyntaxError",
          "evalue": "invalid syntax (ipython-input-30-707768914.py, line 1)",
          "traceback": [
            "\u001b[0;36m  File \u001b[0;32m\"/tmp/ipython-input-30-707768914.py\"\u001b[0;36m, line \u001b[0;32m1\u001b[0m\n\u001b[0;31m    if elif, else\u001b[0m\n\u001b[0m       ^\u001b[0m\n\u001b[0;31mSyntaxError\u001b[0m\u001b[0;31m:\u001b[0m invalid syntax\n"
          ]
        }
      ]
    },
    {
      "cell_type": "code",
      "source": [
        "year = 2025\n",
        "country = 'Malaysia'\n",
        "\n",
        "if year == 2025:\n",
        "  print('year is 2025')\n"
      ],
      "metadata": {
        "colab": {
          "base_uri": "https://localhost:8080/"
        },
        "id": "KwVT9o7zVcJe",
        "outputId": "d0c9e1a1-18bb-42db-d0dc-43497b68a084"
      },
      "execution_count": null,
      "outputs": [
        {
          "output_type": "stream",
          "name": "stdout",
          "text": [
            "year is 2025\n"
          ]
        }
      ]
    },
    {
      "cell_type": "code",
      "source": [
        "  elif country == 'Malaysia':\n",
        "    print('countryis Malaysia')"
      ],
      "metadata": {
        "colab": {
          "base_uri": "https://localhost:8080/",
          "height": 110
        },
        "id": "vlNGjSVHVocK",
        "outputId": "85a0dc5f-6a85-4657-df79-685a5dae1a4d"
      },
      "execution_count": null,
      "outputs": [
        {
          "output_type": "error",
          "ename": "SyntaxError",
          "evalue": "invalid syntax (ipython-input-32-2283737002.py, line 1)",
          "traceback": [
            "\u001b[0;36m  File \u001b[0;32m\"/tmp/ipython-input-32-2283737002.py\"\u001b[0;36m, line \u001b[0;32m1\u001b[0m\n\u001b[0;31m    elif country == 'Malaysia':\u001b[0m\n\u001b[0m    ^\u001b[0m\n\u001b[0;31mSyntaxError\u001b[0m\u001b[0;31m:\u001b[0m invalid syntax\n"
          ]
        }
      ]
    },
    {
      "cell_type": "code",
      "source": [
        "else\n",
        "    print (year and country are unknown)"
      ],
      "metadata": {
        "colab": {
          "base_uri": "https://localhost:8080/",
          "height": 110
        },
        "id": "8zpdbT5_VrcS",
        "outputId": "d7cb9ecd-d3be-4dfe-e63c-f22cfd75b0db"
      },
      "execution_count": null,
      "outputs": [
        {
          "output_type": "error",
          "ename": "SyntaxError",
          "evalue": "invalid syntax (ipython-input-39-3581298466.py, line 1)",
          "traceback": [
            "\u001b[0;36m  File \u001b[0;32m\"/tmp/ipython-input-39-3581298466.py\"\u001b[0;36m, line \u001b[0;32m1\u001b[0m\n\u001b[0;31m    else\u001b[0m\n\u001b[0m    ^\u001b[0m\n\u001b[0;31mSyntaxError\u001b[0m\u001b[0;31m:\u001b[0m invalid syntax\n"
          ]
        }
      ]
    },
    {
      "cell_type": "code",
      "source": [
        "elif country == 'Singapore':\n",
        "    print('countryis Singapore')"
      ],
      "metadata": {
        "colab": {
          "base_uri": "https://localhost:8080/",
          "height": 110
        },
        "id": "fKcogy8CWE4A",
        "outputId": "944f12d0-a4f2-4e48-f274-7a46946cd949"
      },
      "execution_count": null,
      "outputs": [
        {
          "output_type": "error",
          "ename": "SyntaxError",
          "evalue": "invalid syntax (ipython-input-40-1933926664.py, line 1)",
          "traceback": [
            "\u001b[0;36m  File \u001b[0;32m\"/tmp/ipython-input-40-1933926664.py\"\u001b[0;36m, line \u001b[0;32m1\u001b[0m\n\u001b[0;31m    elif country == 'Singapore':\u001b[0m\n\u001b[0m    ^\u001b[0m\n\u001b[0;31mSyntaxError\u001b[0m\u001b[0;31m:\u001b[0m invalid syntax\n"
          ]
        }
      ]
    },
    {
      "cell_type": "markdown",
      "source": [
        "<img src=\"https://s3-api.us-geo.objectstorage.softlayer.net/cf-courses-data/CognitiveClass/PY0101EN/Chapter%203/Images/CondsTable.png\" width=\"650\" />"
      ],
      "metadata": {
        "id": "s9GV0f34Wane"
      }
    },
    {
      "cell_type": "markdown",
      "source": [
        "<img src=\"https://s3-api.us-geo.objectstorage.softlayer.net/cf-courses-data/CognitiveClass/PY0101EN/Chapter%203/Images/CondsTable.png\" width=\"650\" />"
      ],
      "metadata": {
        "id": "MG5g9SOPWnGV"
      }
    },
    {
      "cell_type": "markdown",
      "source": [],
      "metadata": {
        "id": "LnKEZybbW0EV"
      }
    },
    {
      "cell_type": "code",
      "source": [
        "num = 88\n",
        "\n",
        "year = 2030\n",
        "\n",
        "if year > 2025 and num == 80:True and false = false\n",
        "print('year is 2030 and num is 80')\n",
        "\n",
        "elif year > 2025 or num ==80:\n",
        " print ('year is 2030 or num is 80')\n",
        "\n",
        "else :\n",
        "  print ('no idea')\n"
      ],
      "metadata": {
        "colab": {
          "base_uri": "https://localhost:8080/",
          "height": 110
        },
        "id": "-i2DcVULW176",
        "outputId": "0c66d7e0-8eb9-40bd-d82f-32bdea635c20"
      },
      "execution_count": null,
      "outputs": [
        {
          "output_type": "error",
          "ename": "SyntaxError",
          "evalue": "cannot assign to expression (ipython-input-38-316721700.py, line 5)",
          "traceback": [
            "\u001b[0;36m  File \u001b[0;32m\"/tmp/ipython-input-38-316721700.py\"\u001b[0;36m, line \u001b[0;32m5\u001b[0m\n\u001b[0;31m    if year > 2025 and num == 80:True and false = false\u001b[0m\n\u001b[0m                                 ^\u001b[0m\n\u001b[0;31mSyntaxError\u001b[0m\u001b[0;31m:\u001b[0m cannot assign to expression\n"
          ]
        }
      ]
    },
    {
      "cell_type": "code",
      "source": [
        "num =  10\n",
        "if num%2 ==0:\n",
        "  print ('it is even number')\n",
        "\n",
        "\n",
        "else:\n",
        "    print ('it is odd number')"
      ],
      "metadata": {
        "colab": {
          "base_uri": "https://localhost:8080/"
        },
        "id": "pOnefl4XYTaP",
        "outputId": "89d4b6f5-7ee6-464a-f7d8-407dc1b06753"
      },
      "execution_count": null,
      "outputs": [
        {
          "output_type": "stream",
          "name": "stdout",
          "text": [
            "it is even number\n"
          ]
        }
      ]
    },
    {
      "cell_type": "code",
      "source": [
        "input_num = input('write a number')\n",
        "\n",
        "input_num = int(input_num)\n",
        "\n",
        "if input_num%2 == 0:"
      ],
      "metadata": {
        "id": "BX_c2bjnY-Fm"
      },
      "execution_count": null,
      "outputs": []
    },
    {
      "cell_type": "code",
      "source": [
        "#nested if, elif, else\n",
        "\n",
        "price = 5000\n",
        "car = 'proton'\n",
        "\n",
        "if price > 1000:#true\n",
        "if price==3000:#false\n",
        "print('price is 3000')\n",
        "\n",
        "else:\n",
        "  if privce ==3000 or car == proton:#false or True = True\n",
        " print ('car is proton and price is 5000')\n",
        "\n",
        " else:\n",
        "  print(The price and car are unknown)"
      ],
      "metadata": {
        "colab": {
          "base_uri": "https://localhost:8080/",
          "height": 110
        },
        "id": "FFQkAq-jZ8bT",
        "outputId": "9f063b07-e3bd-4df8-f4ab-4d7969c67d46"
      },
      "execution_count": null,
      "outputs": [
        {
          "output_type": "error",
          "ename": "IndentationError",
          "evalue": "unindent does not match any outer indentation level (<tokenize>, line 12)",
          "traceback": [
            "\u001b[0;36m  File \u001b[0;32m\"<tokenize>\"\u001b[0;36m, line \u001b[0;32m12\u001b[0m\n\u001b[0;31m    print ('car is proton and price is 5000')\u001b[0m\n\u001b[0m    ^\u001b[0m\n\u001b[0;31mIndentationError\u001b[0m\u001b[0;31m:\u001b[0m unindent does not match any outer indentation level\n"
          ]
        }
      ]
    },
    {
      "cell_type": "code",
      "source": [],
      "metadata": {
        "id": "eBqmS8EEb1sn"
      },
      "execution_count": null,
      "outputs": []
    },
    {
      "cell_type": "markdown",
      "source": [
        "**python Data structure**\n",
        "# list()\n",
        "# tuple()\n",
        "# set()\n",
        "# Dictionary()"
      ],
      "metadata": {
        "id": "TZv2JnLib5gK"
      }
    },
    {
      "cell_type": "markdown",
      "source": [
        "var_= ['python , 2025,8.8,-20]\n",
        "var_2= ('python , 2025,8.8,-20)\n",
        "var_3 = {'python , 2025,8.8,-20}\n",
        "\n",
        "print[var_1]\n",
        "\n",
        "```\n",
        "`# This is formatted as code`\n",
        "```\n",
        "\n"
      ],
      "metadata": {
        "id": "PWVD7P2Yb38V"
      }
    },
    {
      "cell_type": "code",
      "source": [
        "var_1= ['python' , 2025,8.8,-20]\n",
        "var_2= ('python' , 2025,8.8,-20)\n",
        "var_3 = {'python' , 2025,8.8,-20}\n",
        "\n",
        "print(var_1)\n",
        "print(var_2)\n",
        "print(var_3)"
      ],
      "metadata": {
        "colab": {
          "base_uri": "https://localhost:8080/"
        },
        "id": "p5TfN1FEdsBX",
        "outputId": "63f369a9-64c5-4132-bef5-6f281a0d41a8"
      },
      "execution_count": null,
      "outputs": [
        {
          "output_type": "stream",
          "name": "stdout",
          "text": [
            "['python', 2025, 8.8, -20]\n",
            "('python', 2025, 8.8, -20)\n",
            "{8.8, 2025, 'python', -20}\n"
          ]
        }
      ]
    },
    {
      "cell_type": "code",
      "source": [
        "[98] #append #extend\n",
        "var_1 = ['python', 2025, 8.8, -20]\n",
        "\n",
        "var_1.append([55, 'genAI'])#nested list"
      ],
      "metadata": {
        "id": "sYObY2jGiZAo"
      },
      "execution_count": null,
      "outputs": []
    },
    {
      "cell_type": "code",
      "source": [
        "name =  'michael jackson'\n",
        "print (name [1])\n",
        "print (name [5])\n",
        "print (name [-1])\n",
        "print (name [4])"
      ],
      "metadata": {
        "colab": {
          "base_uri": "https://localhost:8080/"
        },
        "id": "K0Mh640KfhXd",
        "outputId": "64c5f202-170a-4ec5-94da-ff61487659f7"
      },
      "execution_count": null,
      "outputs": [
        {
          "output_type": "stream",
          "name": "stdout",
          "text": [
            "i\n",
            "e\n",
            "n\n",
            "a\n"
          ]
        }
      ]
    },
    {
      "cell_type": "markdown",
      "source": [
        "<img src=\"https://s3-api.us-geo.objectstorage.softlayer.net/cf-courses-data/CognitiveClass/PY0101EN/Chapter%201/Images/StringsIndex.png\" width=\"600\" align=\"center\" />"
      ],
      "metadata": {
        "id": "Qw4W8fWXgROl"
      }
    },
    {
      "cell_type": "markdown",
      "source": [
        "<img src=\"https://s3-api.us-geo.objectstorage.softlayer.net/cf-courses-data/CognitiveClass/PY0101EN/Chapter%201/Images/StringsNeg.png\" width=\"600\" align=\"center\" />\n"
      ],
      "metadata": {
        "id": "uifUzY8RgYOb"
      }
    },
    {
      "cell_type": "code",
      "source": [
        "name = 'Micheal Jackson'\n",
        "print(name[0:7])"
      ],
      "metadata": {
        "colab": {
          "base_uri": "https://localhost:8080/"
        },
        "id": "9VJ4Bc_R-mfz",
        "outputId": "5ae39b06-27e4-4d30-de53-f378254e2620"
      },
      "execution_count": null,
      "outputs": [
        {
          "output_type": "stream",
          "name": "stdout",
          "text": [
            "Micheal\n"
          ]
        }
      ]
    },
    {
      "cell_type": "code",
      "source": [
        "print(name[-15:-8])\n",
        "\n",
        "print(name[-7:])\n",
        "print(name[8:])\n",
        "\n"
      ],
      "metadata": {
        "id": "odWP3i6Mg1iV",
        "colab": {
          "base_uri": "https://localhost:8080/"
        },
        "outputId": "b59d86e1-1e7e-4a52-ca2b-b2a9d44de68f"
      },
      "execution_count": null,
      "outputs": [
        {
          "output_type": "stream",
          "name": "stdout",
          "text": [
            "Micheal\n",
            "Jackson\n",
            "Jackson\n"
          ]
        }
      ]
    },
    {
      "cell_type": "markdown",
      "source": [
        "var[index to start from:index to stop at]\n",
        "the index we start at is going to be printed"
      ],
      "metadata": {
        "id": "q5zFahr5-cq2"
      }
    },
    {
      "cell_type": "markdown",
      "source": [
        "index slicing"
      ],
      "metadata": {
        "id": "yDiIQQoH9llq"
      }
    },
    {
      "cell_type": "markdown",
      "source": [
        "Concatenate"
      ],
      "metadata": {
        "id": "X577lFaG_lXv"
      }
    },
    {
      "cell_type": "code",
      "source": [
        "var_1 = 'Data'\n",
        "var_2 = 'Analytics'\n",
        "\n",
        "var_3 = var_1 + var_2\n",
        "print(var_3)\n",
        "\n",
        "var_4 = var_2 + var_1\n",
        "print(var_4)\n",
        "\n",
        "var_5 = var_1 + ' ' + var_2\n",
        "print(var_5)\n",
        "\n",
        "var_6 = 10\n",
        "var_7 = 20\n",
        "var_8 = var_6 + var_7\n",
        "print(var_8)\n",
        "\n"
      ],
      "metadata": {
        "colab": {
          "base_uri": "https://localhost:8080/"
        },
        "id": "19mSTRw4_sBQ",
        "outputId": "d9dc7812-ca8e-4653-8458-e087df941d7e"
      },
      "execution_count": null,
      "outputs": [
        {
          "output_type": "stream",
          "name": "stdout",
          "text": [
            "DataAnalytics\n",
            "AnalyticsData\n",
            "Data Analytics\n",
            "30\n"
          ]
        }
      ]
    },
    {
      "cell_type": "code",
      "source": [
        "var_8 = str(var_6) + str(var_7)\n",
        "print(var_8)"
      ],
      "metadata": {
        "colab": {
          "base_uri": "https://localhost:8080/"
        },
        "id": "8w6W0lv5BIby",
        "outputId": "4166a624-c406-4ee4-b4e4-e34c8887c222"
      },
      "execution_count": null,
      "outputs": [
        {
          "output_type": "stream",
          "name": "stdout",
          "text": [
            "1020\n"
          ]
        }
      ]
    },
    {
      "cell_type": "code",
      "source": [
        "var_9 = var_1 + var_6\n",
        "print(var_9)"
      ],
      "metadata": {
        "colab": {
          "base_uri": "https://localhost:8080/",
          "height": 164
        },
        "id": "WSvdYVf0BfZy",
        "outputId": "d3360688-9dd7-4d9b-ef92-e5bdbdb5e770"
      },
      "execution_count": null,
      "outputs": [
        {
          "output_type": "error",
          "ename": "TypeError",
          "evalue": "can only concatenate str (not \"int\") to str",
          "traceback": [
            "\u001b[0;31m---------------------------------------------------------------------------\u001b[0m",
            "\u001b[0;31mTypeError\u001b[0m                                 Traceback (most recent call last)",
            "\u001b[0;32m/tmp/ipython-input-21-915706285.py\u001b[0m in \u001b[0;36m<cell line: 0>\u001b[0;34m()\u001b[0m\n\u001b[0;32m----> 1\u001b[0;31m \u001b[0mvar_9\u001b[0m \u001b[0;34m=\u001b[0m \u001b[0mvar_1\u001b[0m \u001b[0;34m+\u001b[0m \u001b[0mvar_6\u001b[0m\u001b[0;34m\u001b[0m\u001b[0;34m\u001b[0m\u001b[0m\n\u001b[0m\u001b[1;32m      2\u001b[0m \u001b[0mprint\u001b[0m\u001b[0;34m(\u001b[0m\u001b[0mvar_9\u001b[0m\u001b[0;34m)\u001b[0m\u001b[0;34m\u001b[0m\u001b[0;34m\u001b[0m\u001b[0m\n",
            "\u001b[0;31mTypeError\u001b[0m: can only concatenate str (not \"int\") to str"
          ]
        }
      ]
    },
    {
      "cell_type": "code",
      "source": [
        "var_9 = var_1 + str(var_6)\n",
        "print(var_9)"
      ],
      "metadata": {
        "colab": {
          "base_uri": "https://localhost:8080/"
        },
        "id": "_5w9wHCnB3vW",
        "outputId": "c1f25fe9-173d-489d-fdfd-614c715ec214"
      },
      "execution_count": null,
      "outputs": [
        {
          "output_type": "stream",
          "name": "stdout",
          "text": [
            "Data10\n"
          ]
        }
      ]
    },
    {
      "cell_type": "code",
      "source": [
        "var_1= ['python' , 2025,8.8,-20]\n",
        "print(var_1)\n",
        "\n"
      ],
      "metadata": {
        "colab": {
          "base_uri": "https://localhost:8080/"
        },
        "id": "GwdfIP5Q9rYK",
        "outputId": "eaa1ba80-fdf7-4508-e9eb-ffcdad852144"
      },
      "execution_count": null,
      "outputs": [
        {
          "output_type": "stream",
          "name": "stdout",
          "text": [
            "['python', 2025, 8.8, -20]\n"
          ]
        }
      ]
    },
    {
      "cell_type": "code",
      "source": [
        "type(var_1)"
      ],
      "metadata": {
        "colab": {
          "base_uri": "https://localhost:8080/"
        },
        "id": "-PisOUWBCWJp",
        "outputId": "4bb406e2-0a54-405b-f94a-92ebb548dd96"
      },
      "execution_count": null,
      "outputs": [
        {
          "output_type": "execute_result",
          "data": {
            "text/plain": [
              "list"
            ]
          },
          "metadata": {},
          "execution_count": 24
        }
      ]
    },
    {
      "cell_type": "code",
      "source": [
        "var_1.append(['AI', 99])\n",
        "print(var_1)"
      ],
      "metadata": {
        "colab": {
          "base_uri": "https://localhost:8080/"
        },
        "id": "0JvNbilKCc5N",
        "outputId": "823ac834-1d34-4864-dc3e-60a8528a93e1"
      },
      "execution_count": null,
      "outputs": [
        {
          "output_type": "stream",
          "name": "stdout",
          "text": [
            "['python', 2025, 8.8, -20, ['AI', 99]]\n"
          ]
        }
      ]
    },
    {
      "cell_type": "code",
      "source": [
        "var_1[0]"
      ],
      "metadata": {
        "colab": {
          "base_uri": "https://localhost:8080/",
          "height": 36
        },
        "id": "eeT3ovciC4MC",
        "outputId": "b744ec8f-370a-4c9a-aef2-2c4d3aec22ef"
      },
      "execution_count": null,
      "outputs": [
        {
          "output_type": "execute_result",
          "data": {
            "text/plain": [
              "'python'"
            ],
            "application/vnd.google.colaboratory.intrinsic+json": {
              "type": "string"
            }
          },
          "metadata": {},
          "execution_count": 26
        }
      ]
    },
    {
      "cell_type": "code",
      "source": [
        "var_1[1]"
      ],
      "metadata": {
        "colab": {
          "base_uri": "https://localhost:8080/"
        },
        "id": "Sg31lQwNDGH3",
        "outputId": "8b80b133-6dd0-4d8b-bae1-3ed856c40962"
      },
      "execution_count": null,
      "outputs": [
        {
          "output_type": "execute_result",
          "data": {
            "text/plain": [
              "2025"
            ]
          },
          "metadata": {},
          "execution_count": 27
        }
      ]
    },
    {
      "cell_type": "code",
      "source": [
        "var_1[-1]"
      ],
      "metadata": {
        "colab": {
          "base_uri": "https://localhost:8080/"
        },
        "id": "7V90Tn3mDKJx",
        "outputId": "6a9e8a5d-55f2-4c8e-ba2a-0211df6bf647"
      },
      "execution_count": null,
      "outputs": [
        {
          "output_type": "execute_result",
          "data": {
            "text/plain": [
              "['AI', 99]"
            ]
          },
          "metadata": {},
          "execution_count": 28
        }
      ]
    },
    {
      "cell_type": "code",
      "source": [
        "var_1[-1][-1]"
      ],
      "metadata": {
        "colab": {
          "base_uri": "https://localhost:8080/"
        },
        "id": "o8PLOydFDZoe",
        "outputId": "371d8021-e1b2-4b14-b62d-c03af47e616c"
      },
      "execution_count": null,
      "outputs": [
        {
          "output_type": "execute_result",
          "data": {
            "text/plain": [
              "99"
            ]
          },
          "metadata": {},
          "execution_count": 29
        }
      ]
    },
    {
      "cell_type": "code",
      "source": [
        "#checking on index of an item\n",
        "\n",
        "var_1.index(8.8)"
      ],
      "metadata": {
        "colab": {
          "base_uri": "https://localhost:8080/"
        },
        "id": "9QhBEO0ODoSi",
        "outputId": "cee06321-88a1-459a-c225-b8277997a4d1"
      },
      "execution_count": null,
      "outputs": [
        {
          "output_type": "execute_result",
          "data": {
            "text/plain": [
              "2"
            ]
          },
          "metadata": {},
          "execution_count": 30
        }
      ]
    },
    {
      "cell_type": "code",
      "source": [
        "var_1[2]"
      ],
      "metadata": {
        "colab": {
          "base_uri": "https://localhost:8080/"
        },
        "id": "yT-Dhp2fDoEF",
        "outputId": "e706e202-505f-4b26-8c68-c6d664389886"
      },
      "execution_count": null,
      "outputs": [
        {
          "output_type": "execute_result",
          "data": {
            "text/plain": [
              "8.8"
            ]
          },
          "metadata": {},
          "execution_count": 31
        }
      ]
    },
    {
      "cell_type": "code",
      "source": [
        "var_2 = ('python' , 2025,8.8,-20,2025)\n",
        "var_1.index(2025)"
      ],
      "metadata": {
        "colab": {
          "base_uri": "https://localhost:8080/"
        },
        "id": "aFZ8WOdjDnjW",
        "outputId": "587e295d-bf01-45d6-dd68-2293468b3c60"
      },
      "execution_count": null,
      "outputs": [
        {
          "output_type": "execute_result",
          "data": {
            "text/plain": [
              "1"
            ]
          },
          "metadata": {},
          "execution_count": 33
        }
      ]
    },
    {
      "cell_type": "code",
      "source": [
        "#checking the tree of an item\n",
        "var_2 = ('python' , 2025,8.8,-20,2025)\n",
        "var_2.count(2025)"
      ],
      "metadata": {
        "colab": {
          "base_uri": "https://localhost:8080/"
        },
        "id": "ui9ewROBEgdC",
        "outputId": "123ae186-8a80-4873-b8a2-4f7ef6a7a957"
      },
      "execution_count": null,
      "outputs": [
        {
          "output_type": "execute_result",
          "data": {
            "text/plain": [
              "2"
            ]
          },
          "metadata": {},
          "execution_count": 43
        }
      ]
    },
    {
      "cell_type": "code",
      "source": [
        "#remove an item\n",
        "var_11 = ('python' , 2025,8.8,-20,2025)\n",
        "var_11 = list(var_11)\n",
        "\n",
        "var_11.remove(2025)\n",
        "print(var_11)"
      ],
      "metadata": {
        "colab": {
          "base_uri": "https://localhost:8080/"
        },
        "id": "0gN7Gs-vEgZ-",
        "outputId": "0eae06b9-b80b-4c0e-e937-07d37a87b90e"
      },
      "execution_count": null,
      "outputs": [
        {
          "output_type": "stream",
          "name": "stdout",
          "text": [
            "['python', 8.8, -20, 2025]\n"
          ]
        }
      ]
    },
    {
      "cell_type": "code",
      "source": [
        "#reverse\n",
        "var_1 = ('python' , 2025,8.8,-20,2025)\n",
        "var_1 = list(var_1)\n",
        "var_1.reverse()\n",
        "print(var_1)"
      ],
      "metadata": {
        "colab": {
          "base_uri": "https://localhost:8080/"
        },
        "id": "7cwZlKndEgWT",
        "outputId": "561b33e5-09e3-44e7-8cb5-3db2b0474179"
      },
      "execution_count": null,
      "outputs": [
        {
          "output_type": "stream",
          "name": "stdout",
          "text": [
            "[2025, -20, 8.8, 2025, 'python']\n"
          ]
        }
      ]
    },
    {
      "cell_type": "code",
      "source": [
        "#insert\n",
        "#list.insert(index, item)\n",
        "var_1.insert(1, 'ai')\n",
        "var_1\n"
      ],
      "metadata": {
        "colab": {
          "base_uri": "https://localhost:8080/"
        },
        "id": "5CNVKqqZF3or",
        "outputId": "6913a099-3b4e-4f35-cc3a-3967fd964823"
      },
      "execution_count": null,
      "outputs": [
        {
          "output_type": "execute_result",
          "data": {
            "text/plain": [
              "[2025, 'ai', -20, 8.8, 2025, 'python']"
            ]
          },
          "metadata": {},
          "execution_count": 117
        }
      ]
    },
    {
      "cell_type": "code",
      "source": [
        "#sort\n",
        "var_1"
      ],
      "metadata": {
        "id": "jNRXcBpDGm8W"
      },
      "execution_count": null,
      "outputs": []
    },
    {
      "cell_type": "code",
      "source": [
        "list_a =  [20,5,-10,88,15]\n",
        "list_a.sort()\n",
        "list_a"
      ],
      "metadata": {
        "colab": {
          "base_uri": "https://localhost:8080/"
        },
        "id": "YP1HM5dTGs7H",
        "outputId": "f9f0ef07-a968-4f45-d026-cb5ba85602de"
      },
      "execution_count": null,
      "outputs": [
        {
          "output_type": "execute_result",
          "data": {
            "text/plain": [
              "[-10, 5, 15, 20, 88]"
            ]
          },
          "metadata": {},
          "execution_count": 55
        }
      ]
    },
    {
      "cell_type": "code",
      "source": [
        "list_a.reverse()\n",
        "list_a"
      ],
      "metadata": {
        "colab": {
          "base_uri": "https://localhost:8080/"
        },
        "id": "ndtprlmuHBU1",
        "outputId": "2854db38-9a5a-4268-bd81-98a6742727f7"
      },
      "execution_count": null,
      "outputs": [
        {
          "output_type": "execute_result",
          "data": {
            "text/plain": [
              "[88, 20, 15, 5, -10]"
            ]
          },
          "metadata": {},
          "execution_count": 57
        }
      ]
    },
    {
      "cell_type": "code",
      "source": [
        "#checking the number of items in a list\n",
        "len(list_a)"
      ],
      "metadata": {
        "colab": {
          "base_uri": "https://localhost:8080/"
        },
        "id": "nDJxa8nfHBRn",
        "outputId": "2a28bd12-1e0d-44fa-84ca-52539493465b"
      },
      "execution_count": null,
      "outputs": [
        {
          "output_type": "execute_result",
          "data": {
            "text/plain": [
              "5"
            ]
          },
          "metadata": {},
          "execution_count": 58
        }
      ]
    },
    {
      "cell_type": "code",
      "source": [
        "#write a code to find the positive index of an item in a list of items\n",
        "print ('the index of the last item in  list_a = ',len(list_a)-1)"
      ],
      "metadata": {
        "colab": {
          "base_uri": "https://localhost:8080/"
        },
        "id": "wix9UrUeHBJX",
        "outputId": "b2303587-9b11-4826-f140-5bf91928d328"
      },
      "execution_count": null,
      "outputs": [
        {
          "output_type": "stream",
          "name": "stdout",
          "text": [
            "the index of the last item in  list_a =  4\n"
          ]
        }
      ]
    },
    {
      "cell_type": "code",
      "source": [
        "#Tuple\n",
        "var_2 = ('python' , 2025,8.8,-20)\n",
        "var_2"
      ],
      "metadata": {
        "colab": {
          "base_uri": "https://localhost:8080/"
        },
        "id": "gvUHbosXHA9s",
        "outputId": "006cb008-dc53-4979-b988-e772fb75a7d9"
      },
      "execution_count": null,
      "outputs": [
        {
          "output_type": "execute_result",
          "data": {
            "text/plain": [
              "('python', 2025, 8.8, -20)"
            ]
          },
          "metadata": {},
          "execution_count": 61
        }
      ]
    },
    {
      "cell_type": "code",
      "source": [
        "type(var_2)"
      ],
      "metadata": {
        "colab": {
          "base_uri": "https://localhost:8080/"
        },
        "id": "46p3TsCNHAxS",
        "outputId": "d113ec03-17d6-4cb0-c035-f584264d5502"
      },
      "execution_count": null,
      "outputs": [
        {
          "output_type": "execute_result",
          "data": {
            "text/plain": [
              "tuple"
            ]
          },
          "metadata": {},
          "execution_count": 62
        }
      ]
    },
    {
      "cell_type": "code",
      "source": [
        "var_2[-1]"
      ],
      "metadata": {
        "colab": {
          "base_uri": "https://localhost:8080/"
        },
        "id": "PdOINtlrIrQs",
        "outputId": "bf02a254-a541-4c66-976e-0a3815e09039"
      },
      "execution_count": null,
      "outputs": [
        {
          "output_type": "execute_result",
          "data": {
            "text/plain": [
              "-20"
            ]
          },
          "metadata": {},
          "execution_count": 64
        }
      ]
    },
    {
      "cell_type": "code",
      "source": [
        "var_2_1 = ('AI',1918)\n",
        "var_2_2 = var_2 + var_2_1\n",
        "var_2_2"
      ],
      "metadata": {
        "colab": {
          "base_uri": "https://localhost:8080/"
        },
        "id": "FLwWl4CBIrNi",
        "outputId": "1885ae9b-f165-47eb-b269-42af0443366b"
      },
      "execution_count": null,
      "outputs": [
        {
          "output_type": "execute_result",
          "data": {
            "text/plain": [
              "('python', 2025, 8.8, -20, 'AI', 1918)"
            ]
          },
          "metadata": {},
          "execution_count": 67
        }
      ]
    },
    {
      "cell_type": "code",
      "source": [
        "var_2_2 = list(var_2_2)\n",
        "var_2_2"
      ],
      "metadata": {
        "colab": {
          "base_uri": "https://localhost:8080/"
        },
        "id": "qbmvUhOEIrKm",
        "outputId": "d53415fb-e87e-4d89-ddff-d5e0863afb35"
      },
      "execution_count": null,
      "outputs": [
        {
          "output_type": "execute_result",
          "data": {
            "text/plain": [
              "['python', 2025, 8.8, -20, 'AI', 1918]"
            ]
          },
          "metadata": {},
          "execution_count": 68
        }
      ]
    },
    {
      "cell_type": "code",
      "source": [
        "var_2_2.extend([-12])\n",
        "var_2_2"
      ],
      "metadata": {
        "colab": {
          "base_uri": "https://localhost:8080/"
        },
        "id": "lrOLawM-IrHW",
        "outputId": "c71692a3-bdfa-4492-c90e-427e4c4c957d"
      },
      "execution_count": null,
      "outputs": [
        {
          "output_type": "execute_result",
          "data": {
            "text/plain": [
              "['python', 2025, 8.8, -20, 'AI', 1918, -12]"
            ]
          },
          "metadata": {},
          "execution_count": 69
        }
      ]
    },
    {
      "cell_type": "code",
      "source": [
        "var_2_2 = tuple(var_2_2)\n",
        "var_2_2"
      ],
      "metadata": {
        "colab": {
          "base_uri": "https://localhost:8080/"
        },
        "id": "SeuZxB2xIrER",
        "outputId": "c20a7486-2089-4873-8073-aefdf85845b5"
      },
      "execution_count": null,
      "outputs": [
        {
          "output_type": "execute_result",
          "data": {
            "text/plain": [
              "('python', 2025, 8.8, -20, 'AI', 1918, -12)"
            ]
          },
          "metadata": {},
          "execution_count": 70
        }
      ]
    },
    {
      "cell_type": "code",
      "source": [
        "turple_a = (19,0,-10,88,200,35)\n",
        "sort_turple_a = sorted(turple_a)\n",
        "sort_turple_a"
      ],
      "metadata": {
        "colab": {
          "base_uri": "https://localhost:8080/"
        },
        "id": "gIa4F_6zKcHC",
        "outputId": "99bc199c-5bf4-47d8-eaac-85c1a1e4c1bc"
      },
      "execution_count": null,
      "outputs": [
        {
          "output_type": "execute_result",
          "data": {
            "text/plain": [
              "[-10, 0, 19, 35, 88, 200]"
            ]
          },
          "metadata": {},
          "execution_count": 71
        }
      ]
    },
    {
      "cell_type": "code",
      "source": [
        "set_a = {19,-10,88,200,35}\n",
        "set_a"
      ],
      "metadata": {
        "colab": {
          "base_uri": "https://localhost:8080/"
        },
        "id": "uriGNZuYKcDL",
        "outputId": "ede45f1d-6e18-4228-ce7c-a396c7461c6c"
      },
      "execution_count": null,
      "outputs": [
        {
          "output_type": "execute_result",
          "data": {
            "text/plain": [
              "{-10, 19, 35, 88, 200}"
            ]
          },
          "metadata": {},
          "execution_count": 83
        }
      ]
    },
    {
      "cell_type": "code",
      "source": [
        "set_a = {19,-10,88,200,35,88,0,88,19}\n",
        "set_a"
      ],
      "metadata": {
        "colab": {
          "base_uri": "https://localhost:8080/"
        },
        "id": "npOxK5_VKb-c",
        "outputId": "fd351047-f173-4a2a-d403-92bd91529266"
      },
      "execution_count": null,
      "outputs": [
        {
          "output_type": "execute_result",
          "data": {
            "text/plain": [
              "{-10, 0, 19, 35, 88, 200}"
            ]
          },
          "metadata": {},
          "execution_count": 84
        }
      ]
    },
    {
      "cell_type": "code",
      "source": [
        "set_a= list(set_a)\n",
        "set_a.reverse()\n",
        "set_a"
      ],
      "metadata": {
        "colab": {
          "base_uri": "https://localhost:8080/"
        },
        "id": "cGqnZgTdMezE",
        "outputId": "0473ac4f-e007-42fe-ac32-927d783f73b4"
      },
      "execution_count": null,
      "outputs": [
        {
          "output_type": "execute_result",
          "data": {
            "text/plain": [
              "[88, 200, -10, 19, 35, 0]"
            ]
          },
          "metadata": {},
          "execution_count": 85
        }
      ]
    },
    {
      "cell_type": "code",
      "source": [
        "#adding items in a set\n",
        "\n",
        "set_a.append(300)\n",
        "set_a"
      ],
      "metadata": {
        "colab": {
          "base_uri": "https://localhost:8080/"
        },
        "id": "bsKI6kRqMevj",
        "outputId": "30c97223-f60a-4872-c357-fbcccc68f719"
      },
      "execution_count": null,
      "outputs": [
        {
          "output_type": "execute_result",
          "data": {
            "text/plain": [
              "[88, 200, -10, 19, 35, 0, 300]"
            ]
          },
          "metadata": {},
          "execution_count": 118
        }
      ]
    },
    {
      "cell_type": "code",
      "source": [
        "set_a = list(set_a)\n",
        "set_a"
      ],
      "metadata": {
        "colab": {
          "base_uri": "https://localhost:8080/"
        },
        "id": "1KaLLENkMesD",
        "outputId": "99a9d4b0-59a9-4dd0-e436-3e5187b34598"
      },
      "execution_count": null,
      "outputs": [
        {
          "output_type": "execute_result",
          "data": {
            "text/plain": [
              "[88, 200, -10, 19, 35, 0]"
            ]
          },
          "metadata": {},
          "execution_count": 95
        }
      ]
    },
    {
      "cell_type": "code",
      "source": [
        "set_a"
      ],
      "metadata": {
        "id": "M4j5uHA_Meok"
      },
      "execution_count": null,
      "outputs": []
    },
    {
      "cell_type": "code",
      "source": [
        "#intersection\n",
        "\n",
        "seta = {1,3,5,7,9,11,13}\n",
        "setb = {3,5,9,11,12,13,14}\n",
        "\n",
        "seta.intersection(setb)"
      ],
      "metadata": {
        "colab": {
          "base_uri": "https://localhost:8080/"
        },
        "id": "I8jfoAAmOonS",
        "outputId": "8301f425-d73d-4ac6-fdba-7687dabb0abf"
      },
      "execution_count": null,
      "outputs": [
        {
          "output_type": "execute_result",
          "data": {
            "text/plain": [
              "{3, 5, 9, 11, 13}"
            ]
          },
          "metadata": {},
          "execution_count": 96
        }
      ]
    },
    {
      "cell_type": "code",
      "source": [
        "seta.union(setb)"
      ],
      "metadata": {
        "colab": {
          "base_uri": "https://localhost:8080/"
        },
        "id": "-gLieTI-PiWQ",
        "outputId": "72b3361a-1c6b-45af-94f3-b79970e15112"
      },
      "execution_count": null,
      "outputs": [
        {
          "output_type": "execute_result",
          "data": {
            "text/plain": [
              "{1, 3, 5, 7, 9, 11, 12, 13, 14}"
            ]
          },
          "metadata": {},
          "execution_count": 98
        }
      ]
    },
    {
      "cell_type": "code",
      "source": [
        "setc = {'python','ai','deeplearning','gen_ai'}\n",
        "setc"
      ],
      "metadata": {
        "colab": {
          "base_uri": "https://localhost:8080/"
        },
        "id": "1md39T3lPiQA",
        "outputId": "6b829ccb-5fc7-4524-ebb7-fd6a87006a6c"
      },
      "execution_count": null,
      "outputs": [
        {
          "output_type": "execute_result",
          "data": {
            "text/plain": [
              "{'ai', 'deeplearning', 'gen_ai', 'python'}"
            ]
          },
          "metadata": {},
          "execution_count": 99
        }
      ]
    },
    {
      "cell_type": "code",
      "source": [
        "setc = {'Python','ai','Deeplearning','gen_ai'}\n",
        "setc"
      ],
      "metadata": {
        "colab": {
          "base_uri": "https://localhost:8080/"
        },
        "id": "ZDcv5ALpQH1J",
        "outputId": "f7513eba-f5f6-46a8-bc03-59699b5e5aa9"
      },
      "execution_count": null,
      "outputs": [
        {
          "output_type": "execute_result",
          "data": {
            "text/plain": [
              "{'Deeplearning', 'Python', 'ai', 'gen_ai'}"
            ]
          },
          "metadata": {},
          "execution_count": 100
        }
      ]
    },
    {
      "cell_type": "markdown",
      "source": [
        "++Dictionary++"
      ],
      "metadata": {
        "id": "meHzAuvGQi35"
      }
    },
    {
      "cell_type": "code",
      "source": [
        "dictionary = {key:value},{key:value...}"
      ],
      "metadata": {
        "id": "NUpuodvtQThv"
      },
      "execution_count": null,
      "outputs": []
    },
    {
      "cell_type": "code",
      "source": [
        "var_a = {10:'Data',(1,2,3):['a','b','c'],8.8:2025}\n",
        "var_a"
      ],
      "metadata": {
        "colab": {
          "base_uri": "https://localhost:8080/"
        },
        "id": "pHQ8eSf-QTbP",
        "outputId": "acbe35df-cb97-41c4-f70d-88c744d3e51b"
      },
      "execution_count": null,
      "outputs": [
        {
          "output_type": "execute_result",
          "data": {
            "text/plain": [
              "{10: 'Data', (1, 2, 3): ['a', 'b', 'c'], 8.8: 2025}"
            ]
          },
          "metadata": {},
          "execution_count": 101
        }
      ]
    },
    {
      "cell_type": "code",
      "source": [
        "type(var_a)"
      ],
      "metadata": {
        "colab": {
          "base_uri": "https://localhost:8080/"
        },
        "id": "kuJKo0v6QTXB",
        "outputId": "7819117e-6b51-4856-8b9b-5f9994d181eb"
      },
      "execution_count": null,
      "outputs": [
        {
          "output_type": "execute_result",
          "data": {
            "text/plain": [
              "dict"
            ]
          },
          "metadata": {},
          "execution_count": 102
        }
      ]
    },
    {
      "cell_type": "code",
      "source": [
        "var_a[10]"
      ],
      "metadata": {
        "colab": {
          "base_uri": "https://localhost:8080/",
          "height": 36
        },
        "id": "KJhhP41jQTKb",
        "outputId": "82f5ad4d-0a17-4f34-d6be-7e5cd540a112"
      },
      "execution_count": null,
      "outputs": [
        {
          "output_type": "execute_result",
          "data": {
            "text/plain": [
              "'Data'"
            ],
            "application/vnd.google.colaboratory.intrinsic+json": {
              "type": "string"
            }
          },
          "metadata": {},
          "execution_count": 104
        }
      ]
    },
    {
      "cell_type": "code",
      "source": [
        "var_a[8.8]"
      ],
      "metadata": {
        "colab": {
          "base_uri": "https://localhost:8080/"
        },
        "id": "epahUefnRpxj",
        "outputId": "8e72569c-b367-46f4-c0e2-d0d847766a4c"
      },
      "execution_count": null,
      "outputs": [
        {
          "output_type": "execute_result",
          "data": {
            "text/plain": [
              "2025"
            ]
          },
          "metadata": {},
          "execution_count": 106
        }
      ]
    },
    {
      "cell_type": "code",
      "source": [
        "var_a = {10:'Data',(1,2,3):['a','b','c'],8.8:2025}\n",
        "var_a[(1,2,3)]"
      ],
      "metadata": {
        "colab": {
          "base_uri": "https://localhost:8080/"
        },
        "id": "4tvfPVWoR5Zx",
        "outputId": "2af7c718-2cab-4625-cbf7-9a96dd97a8de"
      },
      "execution_count": null,
      "outputs": [
        {
          "output_type": "execute_result",
          "data": {
            "text/plain": [
              "['a', 'b', 'c']"
            ]
          },
          "metadata": {},
          "execution_count": 108
        }
      ]
    },
    {
      "cell_type": "code",
      "source": [
        "var_a.keys()"
      ],
      "metadata": {
        "colab": {
          "base_uri": "https://localhost:8080/"
        },
        "id": "0sz5qwZ_SeQc",
        "outputId": "811363ee-07c2-419a-f986-b21d2d1fe8ac"
      },
      "execution_count": null,
      "outputs": [
        {
          "output_type": "execute_result",
          "data": {
            "text/plain": [
              "dict_keys([10, (1, 2, 3), 8.8])"
            ]
          },
          "metadata": {},
          "execution_count": 109
        }
      ]
    },
    {
      "cell_type": "code",
      "source": [
        "var_a.values()"
      ],
      "metadata": {
        "colab": {
          "base_uri": "https://localhost:8080/"
        },
        "id": "Dmbc8YbZSem8",
        "outputId": "f38cd62d-cf17-4016-a543-a970cd9077da"
      },
      "execution_count": null,
      "outputs": [
        {
          "output_type": "execute_result",
          "data": {
            "text/plain": [
              "dict_values(['Data', ['a', 'b', 'c'], 2025])"
            ]
          },
          "metadata": {},
          "execution_count": 110
        }
      ]
    },
    {
      "cell_type": "code",
      "source": [
        "dictionary1 = {'A':20,'B':-30,'C':99,'D':2025}\n",
        "dictionary1"
      ],
      "metadata": {
        "colab": {
          "base_uri": "https://localhost:8080/"
        },
        "id": "GwkR8GtLRL3z",
        "outputId": "527088fe-3158-4e3b-bc30-8cbc931b9149"
      },
      "execution_count": null,
      "outputs": [
        {
          "output_type": "execute_result",
          "data": {
            "text/plain": [
              "{'A': 20, 'B': -30, 'C': 99, 'D': 2025}"
            ]
          },
          "metadata": {},
          "execution_count": 1
        }
      ]
    },
    {
      "cell_type": "code",
      "source": [
        "dictionary1['C']"
      ],
      "metadata": {
        "colab": {
          "base_uri": "https://localhost:8080/"
        },
        "id": "mAaKGVuXRLty",
        "outputId": "56524dc7-56c5-4e53-90fd-c8a778c659b3"
      },
      "execution_count": null,
      "outputs": [
        {
          "output_type": "execute_result",
          "data": {
            "text/plain": [
              "99"
            ]
          },
          "metadata": {},
          "execution_count": 2
        }
      ]
    },
    {
      "cell_type": "code",
      "source": [
        "dictionary1['C']= 88\n",
        "dictionary1"
      ],
      "metadata": {
        "colab": {
          "base_uri": "https://localhost:8080/"
        },
        "id": "MeaDF-qsRLqy",
        "outputId": "a24c3b70-06da-4408-a1c6-bd415d1c9df8"
      },
      "execution_count": null,
      "outputs": [
        {
          "output_type": "execute_result",
          "data": {
            "text/plain": [
              "{'A': 20, 'B': -30, 'C': 88, 'D': 2025}"
            ]
          },
          "metadata": {},
          "execution_count": 5
        }
      ]
    },
    {
      "cell_type": "markdown",
      "source": [],
      "metadata": {
        "id": "F3iaORmDSsWf"
      }
    },
    {
      "cell_type": "markdown",
      "source": [
        "For loops and while loops"
      ],
      "metadata": {
        "id": "8brs987WSnYc"
      }
    },
    {
      "cell_type": "code",
      "source": [
        "list_num = [20,35,0,88,19]\n",
        "\n",
        "print(list_num[0])\n",
        "print(list_num[1])\n",
        "print(list_num[2])\n",
        "print(list_num[3])\n",
        "print(list_num[4])"
      ],
      "metadata": {
        "colab": {
          "base_uri": "https://localhost:8080/"
        },
        "id": "bTgRYKLIRLnf",
        "outputId": "ccfe3519-dfc6-41c4-9358-ad9bd80deaf8"
      },
      "execution_count": null,
      "outputs": [
        {
          "output_type": "stream",
          "name": "stdout",
          "text": [
            "20\n",
            "35\n",
            "0\n",
            "88\n",
            "19\n"
          ]
        }
      ]
    },
    {
      "cell_type": "code",
      "source": [
        "for i in list_num:\n",
        "  print(i)"
      ],
      "metadata": {
        "colab": {
          "base_uri": "https://localhost:8080/"
        },
        "id": "g4c-j_HpRLZA",
        "outputId": "2bcf10bf-c718-4c3b-8bff-afa1bf82c1f3"
      },
      "execution_count": null,
      "outputs": [
        {
          "output_type": "stream",
          "name": "stdout",
          "text": [
            "20\n",
            "35\n",
            "0\n",
            "88\n",
            "19\n"
          ]
        }
      ]
    },
    {
      "cell_type": "code",
      "source": [
        "for i in range(10):\n",
        "  print(i)"
      ],
      "metadata": {
        "colab": {
          "base_uri": "https://localhost:8080/"
        },
        "id": "CbKTSOaBRLWL",
        "outputId": "b737d0be-6214-4347-b2ca-5e6b92281a8b"
      },
      "execution_count": null,
      "outputs": [
        {
          "output_type": "stream",
          "name": "stdout",
          "text": [
            "0\n",
            "1\n",
            "2\n",
            "3\n",
            "4\n",
            "5\n",
            "6\n",
            "7\n",
            "8\n",
            "9\n"
          ]
        }
      ]
    },
    {
      "cell_type": "code",
      "source": [
        "for i in range(10):\n",
        "  if i < 5:\n",
        "    print(i)"
      ],
      "metadata": {
        "colab": {
          "base_uri": "https://localhost:8080/"
        },
        "id": "k4XQF0gZRLS3",
        "outputId": "3c8b2c25-d16b-49fd-9d14-6dad53cdb8d7"
      },
      "execution_count": null,
      "outputs": [
        {
          "output_type": "stream",
          "name": "stdout",
          "text": [
            "0\n",
            "1\n",
            "2\n",
            "3\n",
            "4\n"
          ]
        }
      ]
    },
    {
      "cell_type": "code",
      "source": [
        "for i in range(10):\n",
        "  if i > 5:\n",
        "    print(i)"
      ],
      "metadata": {
        "colab": {
          "base_uri": "https://localhost:8080/"
        },
        "id": "9CDJ6hbzUaHf",
        "outputId": "c3ed4763-0f60-44df-a291-085042820422"
      },
      "execution_count": null,
      "outputs": [
        {
          "output_type": "stream",
          "name": "stdout",
          "text": [
            "6\n",
            "7\n",
            "8\n",
            "9\n"
          ]
        }
      ]
    },
    {
      "cell_type": "code",
      "source": [
        "for i in range(10):\n",
        "  if i == 5:\n",
        "    break\n",
        "  print(i)"
      ],
      "metadata": {
        "colab": {
          "base_uri": "https://localhost:8080/"
        },
        "id": "K-tIy93oUaEy",
        "outputId": "960b8dba-e1e1-4a08-ebcf-26df6a463a31"
      },
      "execution_count": null,
      "outputs": [
        {
          "output_type": "stream",
          "name": "stdout",
          "text": [
            "0\n",
            "1\n",
            "2\n",
            "3\n",
            "4\n"
          ]
        }
      ]
    },
    {
      "cell_type": "code",
      "source": [
        "#while\n",
        "numbers = [1,2,3,4,5,6,7]\n",
        "\n",
        "i = 0 #1 #2\n",
        "num = None #1 #2\n",
        "\n",
        "while(num!=3): #true #true\n",
        "  num = numbers[i]\n",
        "  i = i + 1\n",
        "  print(num)"
      ],
      "metadata": {
        "colab": {
          "base_uri": "https://localhost:8080/"
        },
        "id": "lU_NPxjyUaA2",
        "outputId": "a2e4d066-13c0-46f5-cb5f-704a300cba9a"
      },
      "execution_count": null,
      "outputs": [
        {
          "output_type": "stream",
          "name": "stdout",
          "text": [
            "1\n",
            "2\n",
            "3\n"
          ]
        }
      ]
    },
    {
      "cell_type": "code",
      "source": [
        "#nested loops\n",
        "names= ['Amer','caro','jason']\n",
        "\n",
        "for i in names:#Amer\n",
        "  print(i)\n",
        "\n",
        "  for x in (i):#A #m #e #r\n",
        "    print(x)\n",
        "\n",
        "  print('')"
      ],
      "metadata": {
        "colab": {
          "base_uri": "https://localhost:8080/"
        },
        "id": "LjigJAXhYlbk",
        "outputId": "a8a153b7-6318-4064-cea3-34bcf0d75b14"
      },
      "execution_count": null,
      "outputs": [
        {
          "output_type": "stream",
          "name": "stdout",
          "text": [
            "Amer\n",
            "A\n",
            "m\n",
            "e\n",
            "r\n",
            "\n",
            "caro\n",
            "c\n",
            "a\n",
            "r\n",
            "o\n",
            "\n",
            "jason\n",
            "j\n",
            "a\n",
            "s\n",
            "o\n",
            "n\n",
            "\n"
          ]
        }
      ]
    },
    {
      "cell_type": "code",
      "source": [
        "for i in range(3,10):\n",
        "  print(i)"
      ],
      "metadata": {
        "colab": {
          "base_uri": "https://localhost:8080/"
        },
        "id": "QSjmUpgFbhjt",
        "outputId": "125507db-4fed-4f14-9c69-8814302fd5db"
      },
      "execution_count": null,
      "outputs": [
        {
          "output_type": "stream",
          "name": "stdout",
          "text": [
            "3\n",
            "4\n",
            "5\n",
            "6\n",
            "7\n",
            "8\n",
            "9\n"
          ]
        }
      ]
    },
    {
      "cell_type": "code",
      "source": [
        "#filter the list to adults only\n",
        "\n",
        "age_group = [20,19,15,7,30]\n",
        "adults = [] #20\n",
        "\n",
        "for age in age_group:#20\n",
        "  if age>=18:#True\n",
        "    adults.append(age)\n",
        "print(\"The list of adults is:\",adults)"
      ],
      "metadata": {
        "colab": {
          "base_uri": "https://localhost:8080/"
        },
        "id": "WViGRhFYblD4",
        "outputId": "50f2c1e9-8a2d-49b4-c692-ce6c982c128c"
      },
      "execution_count": null,
      "outputs": [
        {
          "output_type": "stream",
          "name": "stdout",
          "text": [
            "The list of adults is: [20, 19, 30]\n"
          ]
        }
      ]
    },
    {
      "cell_type": "code",
      "source": [
        "numbers"
      ],
      "metadata": {
        "colab": {
          "base_uri": "https://localhost:8080/"
        },
        "id": "NthyaK-PeBCq",
        "outputId": "e0733345-f132-4efa-aaa3-da0edb7d5fd9"
      },
      "execution_count": null,
      "outputs": [
        {
          "output_type": "execute_result",
          "data": {
            "text/plain": [
              "[1, 2, 3, 4, 5, 6, 7]"
            ]
          },
          "metadata": {},
          "execution_count": 45
        }
      ]
    },
    {
      "cell_type": "code",
      "source": [
        "#loops with conditionallist comprehension\n",
        "#write a code to square the even number only\n",
        "\n",
        "for i in numbers:\n",
        "  if i % 2 ==0:\n",
        "    print(i**2)"
      ],
      "metadata": {
        "colab": {
          "base_uri": "https://localhost:8080/"
        },
        "id": "R-Y0egcNeKOm",
        "outputId": "307df1a2-22b1-460a-a6bc-2039a2ae83cd"
      },
      "execution_count": null,
      "outputs": [
        {
          "output_type": "stream",
          "name": "stdout",
          "text": [
            "4\n",
            "16\n",
            "36\n"
          ]
        }
      ]
    },
    {
      "cell_type": "code",
      "source": [
        "list_events = []\n",
        "for i in numbers:\n",
        "  if i % 2 ==0:\n",
        "    i  = i**2\n",
        "    list_events.append(i)\n",
        "print(list_events)"
      ],
      "metadata": {
        "colab": {
          "base_uri": "https://localhost:8080/"
        },
        "id": "A7Icl1RCe3Gn",
        "outputId": "67226b22-3346-4172-ede5-390a52f93145"
      },
      "execution_count": null,
      "outputs": [
        {
          "output_type": "stream",
          "name": "stdout",
          "text": [
            "[4, 16, 36]\n"
          ]
        }
      ]
    },
    {
      "cell_type": "code",
      "source": [
        "squared_events  = [i**2 for i in numbers if i % 2 ==0]\n",
        "squared_events"
      ],
      "metadata": {
        "colab": {
          "base_uri": "https://localhost:8080/"
        },
        "id": "Sox_kYlXe3DY",
        "outputId": "6f0db447-1952-4c19-967b-bc44b5de69e0"
      },
      "execution_count": null,
      "outputs": [
        {
          "output_type": "execute_result",
          "data": {
            "text/plain": [
              "[4, 16, 36]"
            ]
          },
          "metadata": {},
          "execution_count": 49
        }
      ]
    },
    {
      "cell_type": "code",
      "source": [
        "#fuctions\n",
        "\n",
        "def greeting():\n",
        "  print('Welcome to Business Analytics')"
      ],
      "metadata": {
        "id": "Ixqx29Sze3AJ"
      },
      "execution_count": null,
      "outputs": []
    },
    {
      "cell_type": "code",
      "source": [
        "greeting()"
      ],
      "metadata": {
        "colab": {
          "base_uri": "https://localhost:8080/"
        },
        "id": "afuMs2YDe2hL",
        "outputId": "7559e129-96f1-4394-8218-90ed92501eb3"
      },
      "execution_count": null,
      "outputs": [
        {
          "output_type": "stream",
          "name": "stdout",
          "text": [
            "Welcome to Business Analytics\n"
          ]
        }
      ]
    },
    {
      "cell_type": "code",
      "source": [
        "def sum_num(a,b,d):\n",
        "  c = a + b + d\n",
        "  print(c)"
      ],
      "metadata": {
        "id": "LPuqYOJGe2dw"
      },
      "execution_count": null,
      "outputs": []
    },
    {
      "cell_type": "code",
      "source": [
        "sum_num(10,20,35)"
      ],
      "metadata": {
        "colab": {
          "base_uri": "https://localhost:8080/"
        },
        "id": "XIN9xIrbe2Xh",
        "outputId": "df06d5ba-45e9-40e7-e263-92815233f432"
      },
      "execution_count": null,
      "outputs": [
        {
          "output_type": "stream",
          "name": "stdout",
          "text": [
            "65\n"
          ]
        }
      ]
    },
    {
      "cell_type": "code",
      "source": [
        "sum_num(22,33,55)"
      ],
      "metadata": {
        "colab": {
          "base_uri": "https://localhost:8080/"
        },
        "id": "ExiHCJQolVTl",
        "outputId": "271e1932-6ad3-48c6-b998-837a6fe635a7"
      },
      "execution_count": null,
      "outputs": [
        {
          "output_type": "stream",
          "name": "stdout",
          "text": [
            "110\n"
          ]
        }
      ]
    },
    {
      "cell_type": "code",
      "source": [
        "#write a code to find the max number in a list pf numbers\n",
        "\n",
        "list_num = [200,0,101,-20,500,88]\n",
        "max_num = list_num[0]\n",
        "\n",
        "for i in list_num:\n",
        "  if i >max_num:\n",
        "    max_num = i\n",
        "\n",
        "print('The max number is:',max_num)"
      ],
      "metadata": {
        "colab": {
          "base_uri": "https://localhost:8080/"
        },
        "id": "XBv7wtfke2Ty",
        "outputId": "2ed55c41-7f20-4709-a204-6edff7278790"
      },
      "execution_count": null,
      "outputs": [
        {
          "output_type": "stream",
          "name": "stdout",
          "text": [
            "The max number is: 500\n"
          ]
        }
      ]
    },
    {
      "cell_type": "code",
      "source": [
        "0"
      ],
      "metadata": {
        "id": "bx4yjTO-e2QY"
      },
      "execution_count": null,
      "outputs": []
    },
    {
      "cell_type": "code",
      "source": [
        "def max_num(x):\n",
        "  max_num = x[-1]\n",
        "\n",
        "  for i in x:\n",
        "    if i > max_num:\n",
        "      max_num = i\n",
        "  print('The max number is:',max_num)\n"
      ],
      "metadata": {
        "id": "zCL-9gS8lwMD"
      },
      "execution_count": null,
      "outputs": []
    },
    {
      "cell_type": "code",
      "source": [
        "mylist = [88,24,74,258,1360,1234,74,50.26]\n",
        "max_num(mylist)"
      ],
      "metadata": {
        "colab": {
          "base_uri": "https://localhost:8080/"
        },
        "id": "WvkNBdAQlwIy",
        "outputId": "1652ef80-168a-4df2-9d42-030905ec15e2"
      },
      "execution_count": null,
      "outputs": [
        {
          "output_type": "stream",
          "name": "stdout",
          "text": [
            "The max number is: 1360\n"
          ]
        }
      ]
    },
    {
      "cell_type": "code",
      "source": [],
      "metadata": {
        "id": "pdr1rq5TlwFs"
      },
      "execution_count": null,
      "outputs": []
    },
    {
      "cell_type": "code",
      "source": [],
      "metadata": {
        "id": "ngt13E79lwCe"
      },
      "execution_count": null,
      "outputs": []
    },
    {
      "cell_type": "code",
      "source": [],
      "metadata": {
        "id": "GeUGAQ69lv-6"
      },
      "execution_count": null,
      "outputs": []
    },
    {
      "cell_type": "code",
      "source": [],
      "metadata": {
        "id": "i9j4QoXrlv6d"
      },
      "execution_count": null,
      "outputs": []
    },
    {
      "cell_type": "code",
      "source": [],
      "metadata": {
        "id": "uPQixT-blv17"
      },
      "execution_count": null,
      "outputs": []
    },
    {
      "cell_type": "code",
      "source": [],
      "metadata": {
        "id": "8o4mRTXOlvyz"
      },
      "execution_count": null,
      "outputs": []
    },
    {
      "cell_type": "code",
      "source": [],
      "metadata": {
        "id": "6RUA3soOlvvg"
      },
      "execution_count": null,
      "outputs": []
    },
    {
      "cell_type": "code",
      "source": [],
      "metadata": {
        "id": "HK6VnJVelvsO"
      },
      "execution_count": null,
      "outputs": []
    },
    {
      "cell_type": "code",
      "source": [],
      "metadata": {
        "id": "96RTOjHMlvpB"
      },
      "execution_count": null,
      "outputs": []
    },
    {
      "cell_type": "code",
      "source": [],
      "metadata": {
        "id": "SVrfnXNslvlo"
      },
      "execution_count": null,
      "outputs": []
    },
    {
      "cell_type": "code",
      "source": [],
      "metadata": {
        "id": "gCFnaOBMlviP"
      },
      "execution_count": null,
      "outputs": []
    },
    {
      "cell_type": "code",
      "source": [],
      "metadata": {
        "id": "1I4-HWXVlvfH"
      },
      "execution_count": null,
      "outputs": []
    },
    {
      "cell_type": "code",
      "source": [],
      "metadata": {
        "id": "udUZGJj1lvb4"
      },
      "execution_count": null,
      "outputs": []
    },
    {
      "cell_type": "code",
      "source": [],
      "metadata": {
        "id": "qJK02FbBlvXK"
      },
      "execution_count": null,
      "outputs": []
    }
  ]
}